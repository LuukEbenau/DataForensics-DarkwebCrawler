{
 "cells": [
  {
   "cell_type": "code",
   "execution_count": 1,
   "metadata": {},
   "outputs": [],
   "source": [
    "VICE_url = 'http://oxsfyfyf3rmxwzvsozhze4awcwtbomwd2butx7fvdkl2nfks4tmmo4qd.onion/?category=137'\n",
    "ARCHTYP_url = 'http://arche2kmhzwxhnq4nxk62vf3agif5rngz6ypuuhtipw6v5pdic7bqead.onion/enter'\n",
    "\n",
    "vice_working_url = 'http://oxsfyfyf3rmxwzvsozhze4awcwtbomwd2butx7fvdkl2nfks4tmmo4qd.onion/'\n",
    "arch_working_url = 'http://arche2kyqyply27mnsnqobq33sic6cu75gacos7qrx3irq3ghdve4mqd.onion/home'"
   ]
  },
  {
   "cell_type": "code",
   "execution_count": 4,
   "metadata": {},
   "outputs": [
    {
     "name": "stdout",
     "output_type": "stream",
     "text": [
      "Defaulting to user installation because normal site-packages is not writeable\n",
      "Collecting tbselenium\n",
      "  Downloading tbselenium-0.6.3-py3-none-any.whl (28 kB)\n",
      "Requirement already satisfied: selenium>=4 in /home/osboxes/.local/lib/python3.10/site-packages (from tbselenium) (4.8.3)\n",
      "Requirement already satisfied: trio~=0.17 in /home/osboxes/.local/lib/python3.10/site-packages (from selenium>=4->tbselenium) (0.22.0)\n",
      "Requirement already satisfied: urllib3[socks]~=1.26 in /usr/lib/python3/dist-packages (from selenium>=4->tbselenium) (1.26.5)\n",
      "Requirement already satisfied: certifi>=2021.10.8 in /home/osboxes/.local/lib/python3.10/site-packages (from selenium>=4->tbselenium) (2022.12.7)\n",
      "Requirement already satisfied: trio-websocket~=0.9 in /home/osboxes/.local/lib/python3.10/site-packages (from selenium>=4->tbselenium) (0.10.2)\n",
      "Requirement already satisfied: sniffio in /home/osboxes/.local/lib/python3.10/site-packages (from trio~=0.17->selenium>=4->tbselenium) (1.3.0)\n",
      "Requirement already satisfied: async-generator>=1.9 in /home/osboxes/.local/lib/python3.10/site-packages (from trio~=0.17->selenium>=4->tbselenium) (1.10)\n",
      "Requirement already satisfied: attrs>=19.2.0 in /home/osboxes/.local/lib/python3.10/site-packages (from trio~=0.17->selenium>=4->tbselenium) (22.2.0)\n",
      "Requirement already satisfied: exceptiongroup>=1.0.0rc9 in /home/osboxes/.local/lib/python3.10/site-packages (from trio~=0.17->selenium>=4->tbselenium) (1.1.1)\n",
      "Requirement already satisfied: outcome in /home/osboxes/.local/lib/python3.10/site-packages (from trio~=0.17->selenium>=4->tbselenium) (1.2.0)\n",
      "Requirement already satisfied: sortedcontainers in /home/osboxes/.local/lib/python3.10/site-packages (from trio~=0.17->selenium>=4->tbselenium) (2.4.0)\n",
      "Requirement already satisfied: idna in /usr/lib/python3/dist-packages (from trio~=0.17->selenium>=4->tbselenium) (3.3)\n",
      "Requirement already satisfied: wsproto>=0.14 in /home/osboxes/.local/lib/python3.10/site-packages (from trio-websocket~=0.9->selenium>=4->tbselenium) (1.2.0)\n",
      "Requirement already satisfied: PySocks!=1.5.7,<2.0,>=1.5.6 in /home/osboxes/.local/lib/python3.10/site-packages (from urllib3[socks]~=1.26->selenium>=4->tbselenium) (1.7.1)\n",
      "Requirement already satisfied: h11<1,>=0.9.0 in /home/osboxes/.local/lib/python3.10/site-packages (from wsproto>=0.14->trio-websocket~=0.9->selenium>=4->tbselenium) (0.14.0)\n",
      "Installing collected packages: tbselenium\n",
      "Successfully installed tbselenium-0.6.3\n"
     ]
    }
   ],
   "source": [
    "!pip3 install tbselenium"
   ]
  },
  {
   "cell_type": "code",
   "execution_count": null,
   "metadata": {},
   "outputs": [],
   "source": [
    "from seleniumwire import webdriver  # Import from seleniumwire\n",
    "\n",
    "# Create a new instance of the Chrome driver (or Firefox)\n",
    "driver = webdriver.Firefox()\n",
    "\n",
    "# Create a request interceptor\n",
    "def interceptor(request):\n",
    "    del request.headers['Cookie']  # Delete the header first\n",
    "    request.headers['Cookie'] = 'dcap=28CB381E7A48FE0EC4173F0BFD4DA30BBBACED7B24F85C492F35C260294F76D41898DD183C71814FFBD5B7C0592CC16A; SERVERID=tor20001; suprdiboodie=s%3AAb5JE1odTfHfbOQrPcgUb-CQuBoFu8-h.bd2NBG%2B4J5dNo1PINSIjtIxSxbZ3jtF8swtUVe3YoxU; PHPSESSID=p0g0uoglq6fsfgt9ddama68p20'\n",
    "\n",
    "# Set the interceptor on the driver\n",
    "driver.request_interceptor = interceptor"
   ]
  },
  {
   "cell_type": "code",
   "execution_count": 20,
   "metadata": {},
   "outputs": [
    {
     "name": "stdout",
     "output_type": "stream",
     "text": [
      "Loading took too much time!\n",
      "<selenium.webdriver.remote.webelement.WebElement (session=\"fbb8c014-64a0-44b6-9bc2-fd358ce510e8\", element=\"87d72372-12c8-4aea-8ae9-98e52f378e18\")>\n"
     ]
    }
   ],
   "source": [
    "#https://github.com/webfp/tor-browser-selenium\n",
    "from tbselenium.tbdriver import TorBrowserDriver\n",
    "from selenium import webdriver\n",
    "from selenium.webdriver.support.ui import WebDriverWait\n",
    "from selenium.webdriver.support import expected_conditions as EC\n",
    "from selenium.webdriver.common.by import By\n",
    "from selenium.common.exceptions import TimeoutException\n",
    "\n",
    "cook = 'Cookie: dcap=28CB381E7A48FE0EC4173F0BFD4DA30BBBACED7B24F85C492F35C260294F76D41898DD183C71814FFBD5B7C0592CC16A; SERVERID=tor20001; suprdiboodie=s%3AAb5JE1odTfHfbOQrPcgUb-CQuBoFu8-h.bd2NBG%2B4J5dNo1PINSIjtIxSxbZ3jtF8swtUVe3YoxU; PHPSESSID=p0g0uoglq6fsfgt9ddama68p20'\n",
    "cook_arch = 'Cookie: Lyra=kcCD98wTreauf%2BLOPe9EOwrlera8ARc81QLUlPKYXlkvkgApJ1sns9cQVvzta4af1tBmFEq2l8fg4nudOCktVksXhsrwFqT5r1eszFzz%2BRPJz1NZEZvm4qrIaJzuf2upBkVhHmfLPuLeW5vrNhKI6MziUXOPVkx8KMxpCAQ1jpMBHQwGuYXoh%2BnrU0b07i3m; LyraFront=UJ7V13XThF2oFEoaGewrjFgerRBIkvTeHOcWCV3jyZIcgyFBiSQHtJrD5Jf6SSduYZgb0vs2ywrGJJc%2F2hMH4Q%3D%3D; LYRA1337=vh5Sz9xPV2jugVOOEuZPG5sq9ODCLXN-u3cLCnEGi9d9ETprsjiOYtySApvSlN-y5TflmXKzFAOVB9gZZXrWisysYdXM%2CGPdx9gqgH0bVn2pHpV1o5dUYmIXAAE9eXU9dmjlmAtKVVDoULZlGFW2T-i57K7jIQ1p'\n",
    "tbb_dir = \"/home/osboxes/Downloads/tor-browser-linux64-12.0.2_ALL/tor-browser\"\n",
    "\n",
    "driver = TorBrowserDriver(tbb_dir)\n",
    "\n",
    "def interceptor(request):\n",
    "    del request.headers['Cookie']  # Delete the header first\n",
    "    request.headers['Cookie'] = 'Lyra=kcCD98wTreauf%2BLOPe9EOwrlera8ARc81QLUlPKYXlkvkgApJ1sns9cQVvzta4af1tBmFEq2l8fg4nudOCktVksXhsrwFqT5r1eszFzz%2BRPJz1NZEZvm4qrIaJzuf2upBkVhHmfLPuLeW5vrNhKI6MziUXOPVkx8KMxpCAQ1jpMBHQwGuYXoh%2BnrU0b07i3m; LyraFront=UJ7V13XThF2oFEoaGewrjFgerRBIkvTeHOcWCV3jyZIcgyFBiSQHtJrD5Jf6SSduYZgb0vs2ywrGJJc%2F2hMH4Q%3D%3D; LYRA1337=vh5Sz9xPV2jugVOOEuZPG5sq9ODCLXN-u3cLCnEGi9d9ETprsjiOYtySApvSlN-y5TflmXKzFAOVB9gZZXrWisysYdXM%2CGPdx9gqgH0bVn2pHpV1o5dUYmIXAAE9eXU9dmjlmAtKVVDoULZlGFW2T-i57K7jIQ1p'\n",
    "driver.request_interceptor = interceptor\n",
    "#    driver.add_cookie({'name': 'Cookie', 'value': 'dcap=28CB381E7A48FE0EC4173F0BFD4DA30BBBACED7B24F85C492F35C260294F76D41898DD183C71814FFBD5B7C0592CC16A; SERVERID=tor20001; suprdiboodie=s%3AAb5JE1odTfHfbOQrPcgUb-CQuBoFu8-h.bd2NBG%2B4J5dNo1PINSIjtIxSxbZ3jtF8swtUVe3YoxU; PHPSESSID=p0g0uoglq6fsfgt9ddama68p20'})\n",
    "driver.get(arch_working_url)\n",
    "\n",
    "delay = 3 # seconds\n",
    "try:\n",
    "    myElem = WebDriverWait(driver, delay).until(EC.presence_of_element_located((By.CLASS_NAME, 'stuk-countdown')))\n",
    "    print (\"Page is ready!\")\n",
    "\n",
    "    page_html = driver.page_source\n",
    "    print(page_html)\n",
    "except TimeoutException:\n",
    "    print(\"Loading took too much time!\")\n",
    "\n",
    "\n",
    "print(myElem)\n",
    "    # print(req.text)"
   ]
  },
  {
   "cell_type": "code",
   "execution_count": 3,
   "metadata": {},
   "outputs": [
    {
     "name": "stdout",
     "output_type": "stream",
     "text": [
      "Defaulting to user installation because normal site-packages is not writeable\n",
      "Collecting requests_tor\n",
      "  Downloading requests_tor-1.4-py3-none-any.whl (7.2 kB)\n",
      "Collecting requests[socks]>=2.27.1\n",
      "  Downloading requests-2.28.2-py3-none-any.whl (62 kB)\n",
      "\u001b[2K     \u001b[90m━━━━━━━━━━━━━━━━━━━━━━━━━━━━━━━━━━━━━━━━\u001b[0m \u001b[32m62.8/62.8 KB\u001b[0m \u001b[31m1.1 MB/s\u001b[0m eta \u001b[36m0:00:00\u001b[0ma \u001b[36m0:00:01\u001b[0m\n",
      "\u001b[?25hRequirement already satisfied: stem>=1.8.0 in /home/osboxes/.local/lib/python3.10/site-packages (from requests_tor) (1.8.1)\n",
      "Collecting brotli>=1.0.9\n",
      "  Downloading Brotli-1.0.9-cp310-cp310-manylinux_2_5_x86_64.manylinux1_x86_64.manylinux_2_12_x86_64.manylinux2010_x86_64.whl (2.7 MB)\n",
      "\u001b[2K     \u001b[90m━━━━━━━━━━━━━━━━━━━━━━━━━━━━━━━━━━━━━━━━\u001b[0m \u001b[32m2.7/2.7 MB\u001b[0m \u001b[31m894.6 kB/s\u001b[0m eta \u001b[36m0:00:00\u001b[0m00:01\u001b[0m00:01\u001b[0m\n",
      "\u001b[?25hRequirement already satisfied: urllib3<1.27,>=1.21.1 in /usr/lib/python3/dist-packages (from requests[socks]>=2.27.1->requests_tor) (1.26.5)\n",
      "Collecting charset-normalizer<4,>=2\n",
      "  Downloading charset_normalizer-3.1.0-cp310-cp310-manylinux_2_17_x86_64.manylinux2014_x86_64.whl (199 kB)\n",
      "\u001b[2K     \u001b[90m━━━━━━━━━━━━━━━━━━━━━━━━━━━━━━━━━━━━━━━\u001b[0m \u001b[32m199.3/199.3 KB\u001b[0m \u001b[31m1.7 MB/s\u001b[0m eta \u001b[36m0:00:00\u001b[0m00:01\u001b[0m00:01\u001b[0m\n",
      "\u001b[?25hRequirement already satisfied: idna<4,>=2.5 in /usr/lib/python3/dist-packages (from requests[socks]>=2.27.1->requests_tor) (3.3)\n",
      "Requirement already satisfied: certifi>=2017.4.17 in /home/osboxes/.local/lib/python3.10/site-packages (from requests[socks]>=2.27.1->requests_tor) (2022.12.7)\n",
      "Requirement already satisfied: PySocks!=1.5.7,>=1.5.6 in /home/osboxes/.local/lib/python3.10/site-packages (from requests[socks]>=2.27.1->requests_tor) (1.7.1)\n",
      "Installing collected packages: brotli, charset-normalizer, requests, requests_tor\n",
      "Successfully installed brotli-1.0.9 charset-normalizer-3.1.0 requests-2.28.2 requests_tor-1.4\n"
     ]
    }
   ],
   "source": [
    "!pip install requests_tor"
   ]
  },
  {
   "cell_type": "code",
   "execution_count": 5,
   "metadata": {},
   "outputs": [
    {
     "name": "stdout",
     "output_type": "stream",
     "text": [
      "<!DOCTYPE html> <html lang=\"en\" class=\"dark bg-gradient-to-br from-gray-800 to-gray-900 min-h-screen\"> <head> <meta charset=\"utf-8\"> <meta name=\"viewport\" content=\"width=device-width, initial-scale=1\"> <title>Home | Archetyp</title> <link rel=\"stylesheet\" type=\"text/css\" href=\"/assets/css/main.css\"> <meta http-equiv=\"Content-Security-Policy\" content=\"script-src 'none'\"> </head> <body class=\"min-h-screen\"> <div class=\"container mx-auto px-6\"> <header class=\"flex flex-col md:flex-row md:items-center pt-10 pb-6 sm:pb-19\"> <div class=\"flex flex-col sm:flex-row items-center w-full md:w-auto\"> <a href=\"/\"> <span class=\"font-serif text-white font-semibold mr-6 ml-6\"> <div class=\"maintenance\"> <div class=\"logonavbartop\"> <div class=\"parent_triangel\"> <div class=\"triangel\"></div> </div> </div> </div> </span> </a> <nav class=\"mt-5 sm:mt-0 sm:ml-auto md:ml-0\"> <ul class=\"flex flex-col sm:flex-row text-gray-600\"> <li> <a href=\"/\" title=\"Visit the mainpage\" class=\"py-1 sm:py-0 h-full flex items-center py-1 sm:py-0 h-full flex items-center hover:text-white px-3 transition-colors duration-200text-white px-3\"> <span>Home</span> </a> </li> <li> <a href=\"/market\" title=\"Browse marketplace\" class=\"py-1 sm:py-0 h-full flex items-center py-1 sm:py-0 h-full flex items-center hover:text-white px-3 transition-colors duration-200text-white px-3\"> <span>Market</span> </a> </li> <li> <a href=\"/forum\" title=\"Browse forum\" class=\"py-1 sm:py-0 h-full flex items-center py-1 sm:py-0 h-full flex items-center hover:text-white px-3 transition-colors duration-200text-white px-3\"> <span>Forum</span> </a> </li> <li> <a href=\"/orders\" title=\"Check orders\" class=\"py-1 sm:py-0 h-full flex items-center transition-colors duration-200 py-1 sm:py-0 h-full flex items-center hover:text-white px-3 transition-colors duration-200text-white px-3\"> <span>Orders</span> </a> </li> <li> <a href=\"/disputes\" title=\"Check disputes\" class=\"py-1 sm:py-0 h-full flex items-center transition-colors duration-200 py-1 sm:py-0 h-full flex items-center hover:text-white px-3 transition-colors duration-200text-white px-3\"> <span>Disputes</span> </a> </li> <li> <a href=\"/message\" title=\"Check messages  \" class=\"py-1 sm:py-0 h-full flex items-center py-1 sm:py-0 h-full flex items-center hover:text-white px-3 transition-colors duration-200text-white px-3\"> <span>Messages</span> </a> </li> <li class=\"sm:ml-6\"> <a href=\"/refresh\" title=\"Refresh page\" class=\"py-1 sm:py-0 h-full flex items-center hover:text-white px-3\"> <i class=\"gg-sync icon-normal\"></i> </a> </li> </ul> </nav> </div> <div class=\"mr-auto sm:mr-0 ml-auto mt-6 md:mt-0\"> <ul class=\"flex flex-row text-gray-600\"> <li> <a href=\"/u/fmanf\" title=\"Your profile\" class=\"h-full flex items-center px-4 text-xl py-1 sm:py-0 h-full flex items-center hover:text-white px-3 transition-colors duration-200text-white\"> <i class=\"gg-profile icon-normal\"></i> </a> </li> <li> <a href=\"#wallet\" title=\"Wallet: 0.00 EUR\" class=\"h-full flex items-center font-semibold px-4 text-xl py-1 sm:py-0 h-full flex items-center hover:text-white px-3 transition-colors duration-200text-white\">\n",
      "                    €\n",
      "                </a> </li> <li> <a href=\"/help\" title=\"Help / Support\" class=\"h-full flex items-center px-4 text-xl py-1 sm:py-0 h-full flex items-center hover:text-white px-3 transition-colors duration-200text-white\"> <i class=\"gg-support icon-small\"></i> </a> </li> <li> <a href=\"/settings\" title=\"Settings\" class=\"h-full flex items-center px-4 py-1 sm:py-0 h-full flex items-center hover:text-white px-3 transition-colors duration-200text-white\"> <i class=\"gg-options\"></i> </a> </li> <li class=\"ml-4\"> <a href=\"/logout\" title=\"Logout\" class=\"h-full flex items-center pl-4 text-xl py-1 sm:py-0 h-full flex items-center hover:text-red-500 px-3 transition-colors duration-200 \"> <i class=\"gg-log-off\"></i> </a> </li> </ul> </div> </header> <main> <h1 class=\"text-white text-4xl font-light\">dashboard</h1> <div class=\"grid grid-cols-12 md:gap-12 mt-6\"> <div class=\"col-span-12 md:col-span-5 lg:col-span-4 xl:col-span-3 mb-12 md:mb-0\"> <div> <div class=\"bg-gray-900 rounded-md shadow-md px-4 pt-3 pb-4\"> <header class='flex items-center'> <span class='text-gray-400 text-sm'>Wallet</span> </header> <div class=\"mt-2 mb-2\"> <div class=\"bg-gray-800 rounded-md flex flex-col sm:flex-row relative mt-4\"> <div class=\"w-full sm:w-1/2 flex flex-col pt-4 pb-6 sm:pb-4 px-6 border-b sm:border-b-0 sm:border-r border-gray-800 border-opacity-50\"> <span class=\"text-gray-400 text-xl\">\n",
      "                                            0.0000\n",
      "                                        </span> <span class=\"font-bold text-sm text-gray-600\">\n",
      "                                            XMR\n",
      "                                        </span> </div> <div class=\"absolute rounded-full bg-gray-700 w-10 h-10 flex items-center justify-center shadow-md left-1/2 transform -translate-x-1/2 -translate-y-1/2 top-1/2\"> <i class=\"gg-math-equal text-gray-500 icon-small\"></i> </div> <div class=\"w-full sm:w-1/2 flex flex-col pb-4 pt-6 sm:pt-4 px-6 sm:text-right border-t sm:border-t-0 sm:border-l border-gray-800 border-opacity-50\"> <span class=\"text-gray-400 text-xl\">\n",
      "                                            0.00\n",
      "                                        </span> <span class=\"font-bold text-sm text-gray-600\">\n",
      "                                        EUR\n",
      "                                </span> </div> </div> </div> <header class='flex items-center mt-7'> <span class='text-gray-400 text-sm'>Exchange Rate</span> </header> <div class=\"mt-2\"> <div class=\"bg-gray-800 rounded-md flex flex-col sm:flex-row relative mt-4\"> <div class=\"w-full sm:w-1/2 flex flex-col pt-4 pb-6 sm:pb-4 px-6 border-b sm:border-b-0 sm:border-r border-gray-800 border-opacity-50\"> <span class=\"text-gray-400 text-xl\">\n",
      "                                            1\n",
      "                                        </span> <span class=\"font-bold text-sm text-gray-600\">\n",
      "                                            XMR\n",
      "                                        </span> </div> <div class=\"absolute rounded-full bg-gray-700 w-10 h-10 flex items-center justify-center shadow-md left-1/2 transform -translate-x-1/2 -translate-y-1/2 top-1/2\"> <i class=\"gg-math-equal text-gray-500 icon-small\"></i> </div> <div class=\"w-full sm:w-1/2 flex flex-col pb-4 pt-6 sm:pt-4 px-6 sm:text-right border-t sm:border-t-0 sm:border-l border-gray-800 border-opacity-50\"> <span class=\"text-gray-400 text-xl\">\n",
      "                                            146.08\n",
      "                                        </span> <span class=\"font-bold text-sm text-gray-600\">\n",
      "                                        EUR\n",
      "                                </span> </div> </div> </div> </div> </div> </div> <div class=\"col-span-12 md:col-span-7 lg:col-span-8 xl:col-span-9\"> <div class=\"flex flex-wrap  overflow-hidden\"> <div class=\"px-1 w-1/3 overflow-hidden\"> <a href=\"/market\"> <div class=\"bg-gray-900 rounded-md\"> <header class='flex items-center text-gray-600 hover:text-indigo-400 justify-center p-4'> <i class=\"gg-shopping-cart mr-3 ml-px mb-px\"></i> <span class='text-gray-400 text-sm'>Marketplace </span> </header> </div> </a> </div> <div class=\"px-1 w-1/3 overflow-hidden\"> <a href=\"/favorites\"> <div class=\"bg-gray-900 rounded-md\"> <header class='flex items-center text-gray-600 hover:text-red-400 justify-center p-4'> <i class=\"gg-heart  mr-3 ml-px mb-px\"></i> <span class='text-gray-400 text-sm'>Favorites  </span> </header> </div> </a> </div> <div class=\" px-1 w-1/3 overflow-hidden\"> <a href=\"/referral\"> <div class=\"bg-gray-900 rounded-md  \"> <header class='flex items-center text-gray-600 hover:text-indigo-400 justify-center p-4'> <i class=\"gg-user-add mr-3 ml-px mb-px\"></i> <span class='text-gray-400 text-sm'>Referral  </span> </header> </div> </a> </div> <div class=\"my-1 px-1 w-1/3 overflow-hidden\"> <a href=\"/games\"> <div class=\"bg-gray-900 rounded-md \"> <header class='flex items-center text-gray-600 hover:text-indigo-400 justify-center p-4'> <i class=\"gg-games mr-3 ml-px mb-px\"></i> <span class='text-gray-400 text-sm'>Games </span> </header> </div> </a> </div> <div class=\"my-1 px-1 w-1/3 overflow-hidden\"> <a href=\"/vendorstores\"> <div class=\"bg-gray-900 rounded-md  \"> <header class='flex items-center text-gray-600 hover:text-indigo-400 justify-center p-4'> <i class=\"gg-database mr-4 ml-px mb-px\"></i> <span class='text-gray-400 text-sm'>Vendorstores  </span> </header> </div> </a> </div> <div class=\"my-1 px-1 w-1/3 overflow-hidden\"> <a href=\"/archewiki\"> <div class=\"bg-gray-900 rounded-md \"> <header class='flex items-center text-gray-600 hover:text-indigo-400 justify-center p-4'> <i class=\"gg-trello mr-4 ml-px mb-px\"></i> <span class='text-gray-400 text-sm'>ArcheWiki</span> </header> </div> </a> </div> <div class=\"my-1 px-1 w-1/3 overflow-hidden\"> <a href=\"/wallet\"> <div class=\"bg-gray-900 rounded-md \"> <header class='flex items-center text-gray-600 hover:text-indigo-400 justify-center p-4'> <i class=\"gg-euro mr-4 ml-px mb-px\"></i> <span class='text-gray-400 text-sm'>Wallet  </span> </header> </div> </a> </div> <div class=\"my-1 px-1 w-1/3 overflow-hidden\"> <a href=\"/settings\"> <div class=\"bg-gray-900 rounded-md \"> <header class='flex items-center text-gray-600 hover:text-indigo-400 justify-center p-4'> <i class=\"gg-options mr-4 ml-px mb-px\"></i> <span class='text-gray-400 text-sm'>Settings  </span> </header> </div> </a> </div> <div class=\"my-1 px-1 w-1/3 overflow-hidden\"> <a href=\"/help\"> <div class=\"bg-gray-900 rounded-md \"> <header class='flex items-center text-gray-600 hover:text-indigo-400 justify-center p-4'> <i class=\"gg-support mr-4 ml-px mb-px\"></i> <span class='text-gray-400 text-sm'>Helpdesk  </span> </header> </div> </a> </div> </div> </div> </div> </main></div> <div id=\"wallet\" class=\"fixed target-flex target-child-flex hidden bg-black bg-opacity-75 top-0 bottom-0 left-0 right-0 max-h-screen overflow-y-auto z-20\"> <div class=\"w-11/12 sm:w-10/12 md:w-7/12 lg:w-5/12 xl:w-1/3 ml-auto mr-auto py-24 hidden flex-col\"> <div class=\"w-full bg-gray-800 rounded-t-lg p-8\"> <div class=\"grid grid-cols-8 gap-6\"> <div class=\"col-span-8 sm:col-span-1\"> <div class=\"rounded-full w-10 h-10 bg-gray-700 flex items-center justify-center\"> <i class=\"gg-euro text-gray-500\"></i> </div> </div> <div class=\"col-span-8 sm:col-span-7\"> <h4 class=\"text-gray-400 text-lg\">Wallet information</h4> <p class=\"text-gray-500 text-sm mt-4 leading-relaxed\">Your XMR wallet holds your digital market funds. You pay products and receive money with it.</p> <div class=\"mt-6\"> <label class=\"flex items-center\" for=\"wallet-address\"> <i class=\"gg-euro mr-3 text-gray-600\"></i> <span class=\"text-gray-400\">XMR Wallet address</span> </label> <textarea id=\"wallet-address\" class=\"bg-gray-700 mt-2 rounded-md shadow-md text-gray-400 text-xs font-mono overflow-y-auto p-3 w-full\" rows=\"3\" readonly>4Hx34iV8DiDjReY5mpBUNEL6JFgxC66brXLvAWbVnXW3g4VVzwwKMks881VVmadvy87sMF6ChN9F6SNZtouS78Df6GuLf7vvQHTR7Qva1u</textarea> </div> <div class=\"flex items-center mt-2\"> <i class=\"text-red-500 gg-danger icon-smaller mr-2 flex-shrink-0\"></i> <p class=\"text-xs text-gray-500\">Make sure to copy the full address and only send XMR!</p> </div> <div class=\"mt-8\"> <div class=\"bg-gray-900 rounded-md flex flex-col sm:flex-row relative\"> <div class=\"w-full sm:w-1/2 flex flex-col pt-4 pb-6 sm:pb-4 px-6 border-b sm:border-b-0 sm:border-r border-gray-800 border-opacity-50\"> <span class=\"text-gray-400 text-xl\">\n",
      "                                            0.0000\n",
      "                                        </span> <span class=\"font-bold text-sm text-gray-600\">\n",
      "                                            XMR\n",
      "                                        </span> </div> <div class=\"absolute rounded-full bg-gray-700 w-10 h-10 flex items-center justify-center shadow-md left-1/2 transform -translate-x-1/2 -translate-y-1/2 top-1/2\"> <i class=\"gg-math-equal text-gray-500 icon-small\"></i> </div> <div class=\"w-full sm:w-1/2 flex flex-col pb-4 pt-6 sm:pt-4 px-6 sm:text-right border-t sm:border-t-0 sm:border-l border-gray-800 border-opacity-50\"> <span class=\"text-gray-400 text-xl\">\n",
      "                                            0.00\n",
      "                                        </span> <span class=\"font-bold text-sm text-gray-600\">\n",
      "                                        EUR\n",
      "                                </span> </div> </div> </div> </div> </div> </div> <footer class=\"w-full bg-gray-900 rounded-b-lg p-4\"> <div class=\"flex items-center flex-col sm:flex-row sm:justify-end\"> <a href=\"#\"> <button type=\"button\" class=\"rounded-md shadow-md px-5 text-sm text-gray-500 h-10 border-gray-800 border-opacity-50 border-2 hover:bg-indigo-400 hover:text-white transition-colors duration-200 mb-3 sm:mb-0 mr-4\">\n",
      "                        Close\n",
      "                    </button> </a> <a href=\"/wallet/history\"> <button type=\"button\" class=\"rounded-md mr-2 shadow-md bg-gray-800 px-5 text-sm text-gray-400 h-10 border-indigo-400 border-opacity-50 border-2 hover:bg-indigo-400 hover:text-white transition-colors duration-200\">\n",
      "                        History\n",
      "                    </button> </a> <a href=\"/wallet\"> <button type=\"button\" class=\"rounded-md shadow-md bg-gray-800 px-5 text-sm text-gray-400 h-10 border-indigo-400 border-opacity-50 border-2 hover:bg-indigo-400 hover:text-white transition-colors duration-200\">\n",
      "                        Wallet\n",
      "                    </button> </a> </div> </footer> </div> </div><footer class=\"bg-gray-850 text-gray-500 items-center pt-5 sm:mt-20 pt-10\"> <div class=\"flex flex-wrap container mx-auto items-center justify-center\"> <div class=\"p-5 w-1/2 sm:w-4/12 md:w-3/12\"> <div class=\"text-xs uppercase text-gray-600 font-medium mb-6\">\n",
      "                Getting Started\n",
      "            </div> <a href=\"/home\" class=\"my-3 block  hover:text-gray-100 text-sm font-medium duration-700\">\n",
      "                Home\n",
      "            </a> <a href=\"/settings\" class=\"my-3 block  hover:text-gray-100 text-sm font-medium duration-700\">\n",
      "                Settings\n",
      "            </a> <a href=\"/help\" class=\"my-3 block  hover:text-gray-100 text-sm font-medium duration-700\">\n",
      "                Helpdesk\n",
      "            </a> <a href=\"/referral\" class=\"my-3 block  hover:text-gray-100 text-sm font-medium duration-700\">\n",
      "                Referral\n",
      "            </a> </div> <div class=\"p-5 w-1/2 sm:w-4/12 md:w-3/12\"> <div class=\"text-xs uppercase text-gray-600 font-medium mb-6\">\n",
      "                Core\n",
      "            </div> <a href=\"/market\" class=\"my-3 block  hover:text-gray-100 text-sm font-medium duration-700\">\n",
      "                Market\n",
      "            </a> <a href=\"/deadpool\" class=\"my-3 block  hover:text-gray-100 text-sm font-medium duration-700\">\n",
      "                Deadpool\n",
      "            </a> <a href=\"/vendorstores\" class=\"my-3 block  hover:text-gray-100 text-sm font-medium duration-700\">\n",
      "                Vendorstores\n",
      "            </a> <a href=\"/apply\" class=\"my-3 block  hover:text-gray-100 text-sm font-medium duration-700\">\n",
      "                Become a vendor\n",
      "            </a> </div> <div class=\"p-5 w-1/2 sm:w-4/12 md:w-3/12\"> <div class=\"text-xs uppercase text-gray-600 font-medium mb-6\">\n",
      "                Community\n",
      "            </div> <a href=\"/forum\" class=\"my-3 block hover:text-gray-100 text-sm font-medium duration-700\">\n",
      "                Forum\n",
      "            </a> <a href=\"/archewiki\" class=\"my-3 block  hover:text-gray-100 text-sm font-medium duration-700\">\n",
      "                ArcheWiki\n",
      "            </a> <a href=\"/team\" class=\"my-3 block  hover:text-gray-100 text-sm font-medium duration-700\">\n",
      "                Team\n",
      "            </a> <a href=\"/post/cE1tZzNubll1MWsySmxBNFJwV005UT09\" class=\"my-3 block  hover:text-gray-100 text-sm font-medium duration-700\">\n",
      "                Patchnotes\n",
      "            </a> </div> <div class=\"p-5 w-1/2 sm:w-4/12 md:w-3/12\"> <div class=\"text-xs uppercase text-gray-600 font-medium mb-6\">\n",
      "                Statistics\n",
      "            </div> <p class=\"my-3 block  hover:text-gray-100 text-sm font-medium duration-700\">\n",
      "                Users: 161508\n",
      "            </p> <p class=\"my-3 block  hover:text-gray-100 text-sm font-medium duration-700\">\n",
      "                Vendors: 1050\n",
      "            </p> <p class=\"my-3 block  hover:text-gray-100 text-sm font-medium duration-700\">\n",
      "                Listings: 6088\n",
      "            </p> <p class=\"my-3 block  hover:text-gray-100 text-sm font-medium duration-700\">\n",
      "                Banned: 800\n",
      "            </p> </div> </div> <div class=\"pt-2 bg-gray-900\"> <div class=\"flex pb-5 px-3 m-auto pt-5 justify-center flex flex-wrap text-sm flex-col md:flex-row\"> <div class=\"mt-2\">\n",
      "                “One should use common words to say uncommon things.” – Arthur Schopenhauer\n",
      "            </div> </div> </div> </footer> </body> </html>\n"
     ]
    }
   ],
   "source": [
    "from requests_tor import RequestsTor\n",
    "\n",
    "# If you use the Tor browser\n",
    "rt = RequestsTor()\n",
    "\n",
    "headers = {\n",
    "    \"Cookie\": \"Lyra=kcCD98wTreauf%2BLOPe9EOwrlera8ARc81QLUlPKYXlkvkgApJ1sns9cQVvzta4af1tBmFEq2l8fg4nudOCktVksXhsrwFqT5r1eszFzz%2BRPJz1NZEZvm4qrIaJzuf2upBkVhHmfLPuLeW5vrNhKI6MziUXOPVkx8KMxpCAQ1jpMBHQwGuYXoh%2BnrU0b07i3m; LyraFront=UJ7V13XThF2oFEoaGewrjFgerRBIkvTeHOcWCV3jyZIcgyFBiSQHtJrD5Jf6SSduYZgb0vs2ywrGJJc%2F2hMH4Q%3D%3D; LYRA1337=vh5Sz9xPV2jugVOOEuZPG5sq9ODCLXN-u3cLCnEGi9d9ETprsjiOYtySApvSlN-y5TflmXKzFAOVB9gZZXrWisysYdXM%2CGPdx9gqgH0bVn2pHpV1o5dUYmIXAAE9eXU9dmjlmAtKVVDoULZlGFW2T-i57K7jIQ1p\",\n",
    "}\n",
    "\n",
    "r = rt.get(arch_working_url, headers=headers)\n",
    "print(r.text)"
   ]
  }
 ],
 "metadata": {
  "kernelspec": {
   "display_name": "Python 3",
   "language": "python",
   "name": "python3"
  },
  "language_info": {
   "codemirror_mode": {
    "name": "ipython",
    "version": 3
   },
   "file_extension": ".py",
   "mimetype": "text/x-python",
   "name": "python",
   "nbconvert_exporter": "python",
   "pygments_lexer": "ipython3",
   "version": "3.10.6"
  },
  "orig_nbformat": 4
 },
 "nbformat": 4,
 "nbformat_minor": 2
}
