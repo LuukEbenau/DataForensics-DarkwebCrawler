{
 "cells": [
  {
   "cell_type": "code",
   "execution_count": 1,
   "id": "0cd28d29",
   "metadata": {},
   "outputs": [],
   "source": [
    "import re\n",
    "from bs4 import BeautifulSoup"
   ]
  },
  {
   "cell_type": "code",
   "execution_count": 109,
   "id": "35e10672",
   "metadata": {},
   "outputs": [],
   "source": [
    "with open(\"vicecity_profile.txt\", 'r') as temp:\n",
    "    profile_html = temp.read()\n",
    "soup = BeautifulSoup(profile_html, \"html.parser\")"
   ]
  },
  {
   "cell_type": "code",
   "execution_count": 381,
   "id": "a9d20be8",
   "metadata": {},
   "outputs": [],
   "source": [
    "#####################\n",
    "###### Vendor #######\n",
    "#####################\n",
    "profile_div = soup.find(\"div\", {\"class\": \"profile_image center\"})\n",
    "\n",
    "VENDOR_NAME = profile_div.find(\"span\").text\n",
    "\n",
    "col_4_spans = soup.find(\"div\", {\"class\": \"col-4\"}).findAll(\"span\")\n",
    "LAST_SEEN, JOIN_DATE = [div.text for div in col_4_div]\n",
    "\n",
    "\n",
    "#####################\n",
    "###### Products #####\n",
    "#####################\n",
    "# Product names\n",
    "products = soup.find_all(\"div\", {\"class\": \"wLfRight\"})\n",
    "product_names = [product.get_text() for product in soup.find_all(\"div\", {\"class\": \"wLfName\"})]\n",
    "\n",
    "# Product Prices\n",
    "product_prices_raw = [product.get_text().split(\"USD\")[0] for product in soup.find_all(\"div\", {\"class\": \"wLfPrice\"})]\n",
    "product_prices = [int(float(price.split(\".\")[0].replace(\",\", \"\"))) for price in product_prices_raw] # missed a couple cents\n",
    "\n",
    "# Product vendor\n",
    "vendor_names = [product.get_text().split(\"\\\\\")[0] for product in soup.find_all(\"div\", {\"class\": \"wLfVendor\"})]\n",
    "product_keys = [\"product \" + str(i + 1) for i in range(len(products))]\n",
    "\n",
    "# Combine product info into dict\n",
    "ALL_PRODUCTS = {product_keys[i] :\n",
    "                    {\"Product\" : product_names[i],\n",
    "                     \"Price\" : product_prices[i],\n",
    "                     \"Vendor\": vendor_names[i]} for i in range(len(products))}\n",
    "\n",
    "\n",
    "#####################\n",
    "###### PGP-key #####\n",
    "#####################\n",
    "begin_tag = \"-----BEGIN PGP PUBLIC KEY BLOCK-----\"\n",
    "end_tag   = \"-----END PGP PUBLIC KEY BLOCK-----\"\n",
    "\n",
    "pgpbox  = soup.find(\"div\", {\"class\": \"pgp_box\"}).text\n",
    "PGP_KEY = pgpbox.strip(begin_tag).strip(end_tag).strip()\n",
    "\n",
    "\n",
    "#####################\n",
    "#Profile Discussions#\n",
    "#####################\n",
    "discussion_bodies = soup.find_all(\"div\", {\"class\": \"discussion_body\"})\n",
    "discussion_texts  = [discussion.find(\"p\").text for discussion in discussion_bodies]\n",
    "\n",
    "discussion_headerblocks = soup.find_all(\"div\", {\"class\": \"discussionHeaderBlock\"})\n",
    "discussion_poster = [header.find(\"a\").text.split(\"<span \")[0] for header in discussion_headerblocks if type(header.find(\"a\")) != type(None)]\n",
    "discussion_post_date = [header.find(\"span\") for header in discussion_headerblocks if type(header.find(\"span\")) != type(None)]\n",
    "\n"
   ]
  },
  {
   "cell_type": "code",
   "execution_count": 396,
   "id": "307c94f9",
   "metadata": {},
   "outputs": [
    {
     "data": {
      "text/plain": [
       "'1100'"
      ]
     },
     "execution_count": 396,
     "metadata": {},
     "output_type": "execute_result"
    }
   ],
   "source": [
    "discussion_post_date[0].text"
   ]
  },
  {
   "cell_type": "code",
   "execution_count": 397,
   "id": "c92efad3",
   "metadata": {},
   "outputs": [
    {
     "data": {
      "text/plain": [
       "'t****7\\xa01100November 2021'"
      ]
     },
     "execution_count": 397,
     "metadata": {},
     "output_type": "execute_result"
    }
   ],
   "source": [
    "discussion_headerblocks[0].text"
   ]
  },
  {
   "cell_type": "code",
   "execution_count": null,
   "id": "116d0beb",
   "metadata": {},
   "outputs": [],
   "source": []
  }
 ],
 "metadata": {
  "kernelspec": {
   "display_name": "Python 3",
   "language": "python",
   "name": "python3"
  },
  "language_info": {
   "codemirror_mode": {
    "name": "ipython",
    "version": 3
   },
   "file_extension": ".py",
   "mimetype": "text/x-python",
   "name": "python",
   "nbconvert_exporter": "python",
   "pygments_lexer": "ipython3",
   "version": "3.10.9"
  }
 },
 "nbformat": 4,
 "nbformat_minor": 5
}
