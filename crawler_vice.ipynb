{
 "cells": [
  {
   "cell_type": "code",
   "execution_count": null,
   "metadata": {},
   "outputs": [],
   "source": [
    "vice_working_url = 'http://oxsfyfyf3rmxwzvsozhze4awcwtbomwd2butx7fvdkl2nfks4tmmo4qd.onion/'"
   ]
  },
  {
   "cell_type": "code",
   "execution_count": null,
   "metadata": {},
   "outputs": [],
   "source": [
    "def get_market_info(market_file_path):\n",
    "    with open(market_file_path) as cookie_file:\n",
    "        file_info = { line.split(' ')[0].strip(): line.split(' ')[1].strip() for line in cookie_file.readlines()}\n",
    "\n",
    "        print(f\"Loaded market with url '{file_info['Url']}' and cookie '{file_info['Cookie']}'\")\n",
    "        return file_info"
   ]
  },
  {
   "cell_type": "code",
   "execution_count": null,
   "metadata": {},
   "outputs": [],
   "source": [
    "from requests_tor import RequestsTor\n",
    "\n",
    "rt = RequestsTor()\n",
    "\n",
    "market_info = get_market_info('./marketinfo_vice.txt')\n",
    "\n",
    "headers = {\n",
    "    \"Cookie\": market_info['Cookie'],\n",
    "}\n",
    "\n",
    "r = rt.get(market_info['Url'] + '/market', headers=headers)\n",
    "full_html = r.text\n",
    "print(full_html)\n",
    "\n",
    "users = full_html.split('All vendors')[1].split('</div>')[0].split('</option>')\n",
    "usernames = [user.split('>')[1] for user in users[2:-1]]"
   ]
  }
 ],
 "metadata": {
  "language_info": {
   "name": "python"
  },
  "orig_nbformat": 4
 },
 "nbformat": 4,
 "nbformat_minor": 2
}
